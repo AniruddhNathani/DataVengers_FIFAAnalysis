{
 "cells": [
  {
   "cell_type": "code",
   "execution_count": 87,
   "metadata": {},
   "outputs": [],
   "source": [
    "import  numpy  as  np\n",
    "import pandas as pd\n",
    "import matplotlib.pyplot as plt\n",
    "from sklearn.neighbors import KNeighborsClassifier\n",
    "import statsmodels.formula.api as smf\n",
    "import matplotlib.pyplot as plt"
   ]
  },
  {
   "cell_type": "code",
   "execution_count": 99,
   "metadata": {},
   "outputs": [],
   "source": [
    "data = pd.read_csv(\"./players_15.csv\")\n",
    "\n",
    "\n",
    "data_potential_mean = data['potential'].mean()\n",
    "\n",
    "data_old = data[data['age']>27]\n",
    "\n",
    "data_old_potential_mean = data_old['potential'].sort_values(ascending = False).head(1000).mean()\n",
    "\n",
    "\n",
    "total_mean = (data_potential_mean + data_old_potential_mean)/2\n",
    "\n",
    "total_mean\n",
    "\n",
    "data_young = data[data['potential']>total_mean]\n",
    "data_young = data[data['age']<25]\n",
    "data_young\n",
    "\n",
    "data_young = data_young.sort_values(by = 'potential', ascending = False).head(250)\n",
    "\n",
    "\n",
    "data_old = data_old.sort_values(by = 'potential', ascending = False).head(250)\n",
    "\n",
    "data_old\n",
    "\n",
    "len(data_young.club.unique())\n",
    "len(data_old.club.unique())\n",
    "club_young_players = np.array(data_young.club.unique())\n",
    "club_olders_young = np.array(data_old.club.unique())\n",
    "len(np.intersect1d(club_young_players, club_olders_young))\n",
    "\n",
    "\n",
    "\n",
    "year_2015_clubs = np.intersect1d(club_young_players, club_olders_young)\n",
    "\n"
   ]
  },
  {
   "cell_type": "code",
   "execution_count": 100,
   "metadata": {},
   "outputs": [],
   "source": [
    "data1 = pd.read_csv(\"./players_20.csv\")\n",
    "\n",
    "data_potential_mean1 = data1['potential'].mean()\n",
    "\n",
    "data_old1 = data1[data1['age']>27]\n",
    "\n",
    "data_old_potential_mean1 = data_old1['potential'].sort_values(ascending = False).head(1000).mean()\n",
    "\n",
    "\n",
    "total_mean1 = (data_potential_mean1 + data_old_potential_mean1)/2\n",
    "\n",
    "total_mean1\n",
    "\n",
    "data_young1 = data1[data1['potential']>total_mean]\n",
    "data_young1 = data1[data1['age']<25]\n",
    "data_young1\n",
    "\n",
    "data_young1 = data_young1.sort_values(by = 'potential', ascending = False).head(250)\n",
    "\n",
    "\n",
    "data_old1 = data_old1.sort_values(by = 'potential', ascending = False).head(250)\n",
    "\n",
    "data_old1\n",
    "\n",
    "len(data_young1.club.unique())\n",
    "len(data_old1.club.unique())\n",
    "club_young_players1 = np.array(data_young1.club.unique())\n",
    "club_olders_young1 = np.array(data_old1.club.unique())\n",
    "len(np.intersect1d(club_young_players1, club_olders_young1))\n",
    "\n",
    "\n",
    "\n",
    "year_2020_clubs = np.intersect1d(club_young_players1, club_olders_young1)"
   ]
  },
  {
   "cell_type": "code",
   "execution_count": 104,
   "metadata": {},
   "outputs": [
    {
     "data": {
      "text/plain": [
       "array(['AS Monaco', 'Arsenal', 'Atlético Madrid', 'Bayer 04 Leverkusen',\n",
       "       'Borussia Dortmund', 'Borussia Mönchengladbach', 'Chelsea',\n",
       "       'Everton', 'FC Barcelona', 'FC Bayern München', 'FC Porto',\n",
       "       'FC Schalke 04', 'Inter', 'Juventus', 'LOSC Lille', 'Lazio',\n",
       "       'Liverpool', 'Manchester City', 'Manchester United', 'Milan',\n",
       "       'Napoli', 'Newcastle United', 'Olympique de Marseille',\n",
       "       'PFC CSKA Moscow', 'Paris Saint-Germain', 'Real Madrid',\n",
       "       'Real Sociedad', 'Roma', 'SL Benfica', 'Sampdoria', 'Sevilla FC',\n",
       "       'Shakhtar Donetsk', 'Tottenham Hotspur', 'Valencia CF',\n",
       "       'Villarreal CF'], dtype=object)"
      ]
     },
     "execution_count": 104,
     "metadata": {},
     "output_type": "execute_result"
    }
   ],
   "source": [
    "competitive_clubs = np.intersect1d(year_2015_clubs, year_2020_clubs)\n",
    "\n",
    "len(competitive_clubs)\n",
    "\n",
    "competitive_clubs"
   ]
  },
  {
   "cell_type": "code",
   "execution_count": 113,
   "metadata": {},
   "outputs": [
    {
     "data": {
      "text/plain": [
       "array(['AS Monaco', 'Arsenal', 'Atlético Madrid', 'Bayer 04 Leverkusen',\n",
       "       'Borussia Dortmund', 'Borussia Mönchengladbach', 'Chelsea',\n",
       "       'Everton', 'FC Barcelona', 'FC Bayern München', 'FC Porto',\n",
       "       'FC Schalke 04', 'Juventus', 'LOSC Lille', 'Lazio', 'Liverpool',\n",
       "       'Manchester City', 'Manchester United', 'Milan', 'Napoli',\n",
       "       'Newcastle United', 'Real Madrid', 'Roma', 'SL Benfica',\n",
       "       'Sampdoria', 'Shakhtar Donetsk', 'Tottenham Hotspur',\n",
       "       'Valencia CF', 'Villarreal CF'], dtype=object)"
      ]
     },
     "execution_count": 113,
     "metadata": {},
     "output_type": "execute_result"
    }
   ],
   "source": [
    "data_3 = pd.read_csv(\"./Score_report_15.csv\", header=None)\n",
    "data_3[1]\n",
    "\n",
    "\n",
    "o_a_competitive_clubs = np.intersect1d(data_3[1], competitive_clubs)\n",
    "\n",
    "len(o_a_competitive_clubs)\n",
    "\n",
    "o_a_competitive_clubs"
   ]
  }
 ],
 "metadata": {
  "kernelspec": {
   "display_name": "Python 3",
   "language": "python",
   "name": "python3"
  },
  "language_info": {
   "codemirror_mode": {
    "name": "ipython",
    "version": 3
   },
   "file_extension": ".py",
   "mimetype": "text/x-python",
   "name": "python",
   "nbconvert_exporter": "python",
   "pygments_lexer": "ipython3",
   "version": "3.7.4"
  }
 },
 "nbformat": 4,
 "nbformat_minor": 2
}
